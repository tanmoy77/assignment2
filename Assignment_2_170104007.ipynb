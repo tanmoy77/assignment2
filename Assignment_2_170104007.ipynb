{
  "cells": [
    {
      "cell_type": "markdown",
      "metadata": {
        "id": "SHMiFJRmP3S-"
      },
      "source": [
        "# Libraries"
      ]
    },
    {
      "cell_type": "code",
      "execution_count": 40,
      "metadata": {
        "id": "QJQFXwKJ7-1T"
      },
      "outputs": [],
      "source": [
        "import numpy as np\n",
        "from numpy import exp, array, random, dot\n",
        "\n",
        "import pandas as pd\n",
        "import tensorflow as tf\n",
        "\n",
        "# plotting\n",
        "import seaborn as sns\n",
        "from wordcloud import WordCloud\n",
        "import matplotlib.pyplot as plt\n",
        "\n",
        "import torch\n",
        "from torch import nn\n",
        "from torch.utils.data import DataLoader, Dataset\n",
        "\n",
        "from google.colab import drive\n",
        "from sklearn.feature_extraction.text import CountVectorizer\n",
        "\n",
        "from sklearn.model_selection import train_test_split\n",
        "from sklearn.metrics import accuracy_score\n",
        "from sklearn.metrics import precision_score\n",
        "from sklearn.metrics import recall_score\n",
        "from sklearn.metrics import f1_score\n",
        "from sklearn.metrics import cohen_kappa_score\n",
        "from sklearn.metrics import roc_auc_score\n",
        "from sklearn.metrics import confusion_matrix\n",
        "from sklearn.metrics import classification_report"
      ]
    },
    {
      "cell_type": "markdown",
      "metadata": {
        "id": "sUHrWrsFP7Em"
      },
      "source": [
        "# Loading Dataset"
      ]
    },
    {
      "cell_type": "code",
      "execution_count": 41,
      "metadata": {
        "colab": {
          "base_uri": "https://localhost:8080/"
        },
        "id": "KcS4zsa89CUR",
        "outputId": "0cdcb9de-0803-40a9-ee62-86e26f4aed39"
      },
      "outputs": [
        {
          "name": "stdout",
          "output_type": "stream",
          "text": [
            "Drive already mounted at /content/gdrive; to attempt to forcibly remount, call drive.mount(\"/content/gdrive\", force_remount=True).\n"
          ]
        }
      ],
      "source": [
        "drive.mount('/content/gdrive')"
      ]
    },
    {
      "cell_type": "code",
      "execution_count": 42,
      "metadata": {
        "colab": {
          "base_uri": "https://localhost:8080/",
          "height": 424
        },
        "id": "uZCE1NLQ9VgC",
        "outputId": "c004cfdb-305b-462e-e5e1-53c60694f9d3"
      },
      "outputs": [
        {
          "data": {
            "text/html": [
              "\n",
              "  <div id=\"df-0ea8043f-7eb4-4d88-b530-90edaf0fb02c\">\n",
              "    <div class=\"colab-df-container\">\n",
              "      <div>\n",
              "<style scoped>\n",
              "    .dataframe tbody tr th:only-of-type {\n",
              "        vertical-align: middle;\n",
              "    }\n",
              "\n",
              "    .dataframe tbody tr th {\n",
              "        vertical-align: top;\n",
              "    }\n",
              "\n",
              "    .dataframe thead th {\n",
              "        text-align: right;\n",
              "    }\n",
              "</style>\n",
              "<table border=\"1\" class=\"dataframe\">\n",
              "  <thead>\n",
              "    <tr style=\"text-align: right;\">\n",
              "      <th></th>\n",
              "      <th>Text</th>\n",
              "      <th>Sentiment</th>\n",
              "    </tr>\n",
              "  </thead>\n",
              "  <tbody>\n",
              "    <tr>\n",
              "      <th>0</th>\n",
              "      <td>Kickers on my watchlist XIDE TIT SOQ PNK CPW B...</td>\n",
              "      <td>1</td>\n",
              "    </tr>\n",
              "    <tr>\n",
              "      <th>1</th>\n",
              "      <td>user: AAP MOVIE. 55% return for the FEA/GEED i...</td>\n",
              "      <td>1</td>\n",
              "    </tr>\n",
              "    <tr>\n",
              "      <th>2</th>\n",
              "      <td>user I'd be afraid to short AMZN - they are lo...</td>\n",
              "      <td>1</td>\n",
              "    </tr>\n",
              "    <tr>\n",
              "      <th>3</th>\n",
              "      <td>MNTA Over 12.00</td>\n",
              "      <td>1</td>\n",
              "    </tr>\n",
              "    <tr>\n",
              "      <th>4</th>\n",
              "      <td>OI  Over 21.37</td>\n",
              "      <td>1</td>\n",
              "    </tr>\n",
              "    <tr>\n",
              "      <th>...</th>\n",
              "      <td>...</td>\n",
              "      <td>...</td>\n",
              "    </tr>\n",
              "    <tr>\n",
              "      <th>5786</th>\n",
              "      <td>Industry body CII said #discoms are likely to ...</td>\n",
              "      <td>-1</td>\n",
              "    </tr>\n",
              "    <tr>\n",
              "      <th>5787</th>\n",
              "      <td>#Gold prices slip below Rs 46,000 as #investor...</td>\n",
              "      <td>-1</td>\n",
              "    </tr>\n",
              "    <tr>\n",
              "      <th>5788</th>\n",
              "      <td>Workers at Bajaj Auto have agreed to a 10% wag...</td>\n",
              "      <td>1</td>\n",
              "    </tr>\n",
              "    <tr>\n",
              "      <th>5789</th>\n",
              "      <td>#Sharemarket LIVE: Sensex off day’s high, up 6...</td>\n",
              "      <td>1</td>\n",
              "    </tr>\n",
              "    <tr>\n",
              "      <th>5790</th>\n",
              "      <td>#Sensex, #Nifty climb off day's highs, still u...</td>\n",
              "      <td>1</td>\n",
              "    </tr>\n",
              "  </tbody>\n",
              "</table>\n",
              "<p>5791 rows × 2 columns</p>\n",
              "</div>\n",
              "      <button class=\"colab-df-convert\" onclick=\"convertToInteractive('df-0ea8043f-7eb4-4d88-b530-90edaf0fb02c')\"\n",
              "              title=\"Convert this dataframe to an interactive table.\"\n",
              "              style=\"display:none;\">\n",
              "        \n",
              "  <svg xmlns=\"http://www.w3.org/2000/svg\" height=\"24px\"viewBox=\"0 0 24 24\"\n",
              "       width=\"24px\">\n",
              "    <path d=\"M0 0h24v24H0V0z\" fill=\"none\"/>\n",
              "    <path d=\"M18.56 5.44l.94 2.06.94-2.06 2.06-.94-2.06-.94-.94-2.06-.94 2.06-2.06.94zm-11 1L8.5 8.5l.94-2.06 2.06-.94-2.06-.94L8.5 2.5l-.94 2.06-2.06.94zm10 10l.94 2.06.94-2.06 2.06-.94-2.06-.94-.94-2.06-.94 2.06-2.06.94z\"/><path d=\"M17.41 7.96l-1.37-1.37c-.4-.4-.92-.59-1.43-.59-.52 0-1.04.2-1.43.59L10.3 9.45l-7.72 7.72c-.78.78-.78 2.05 0 2.83L4 21.41c.39.39.9.59 1.41.59.51 0 1.02-.2 1.41-.59l7.78-7.78 2.81-2.81c.8-.78.8-2.07 0-2.86zM5.41 20L4 18.59l7.72-7.72 1.47 1.35L5.41 20z\"/>\n",
              "  </svg>\n",
              "      </button>\n",
              "      \n",
              "  <style>\n",
              "    .colab-df-container {\n",
              "      display:flex;\n",
              "      flex-wrap:wrap;\n",
              "      gap: 12px;\n",
              "    }\n",
              "\n",
              "    .colab-df-convert {\n",
              "      background-color: #E8F0FE;\n",
              "      border: none;\n",
              "      border-radius: 50%;\n",
              "      cursor: pointer;\n",
              "      display: none;\n",
              "      fill: #1967D2;\n",
              "      height: 32px;\n",
              "      padding: 0 0 0 0;\n",
              "      width: 32px;\n",
              "    }\n",
              "\n",
              "    .colab-df-convert:hover {\n",
              "      background-color: #E2EBFA;\n",
              "      box-shadow: 0px 1px 2px rgba(60, 64, 67, 0.3), 0px 1px 3px 1px rgba(60, 64, 67, 0.15);\n",
              "      fill: #174EA6;\n",
              "    }\n",
              "\n",
              "    [theme=dark] .colab-df-convert {\n",
              "      background-color: #3B4455;\n",
              "      fill: #D2E3FC;\n",
              "    }\n",
              "\n",
              "    [theme=dark] .colab-df-convert:hover {\n",
              "      background-color: #434B5C;\n",
              "      box-shadow: 0px 1px 3px 1px rgba(0, 0, 0, 0.15);\n",
              "      filter: drop-shadow(0px 1px 2px rgba(0, 0, 0, 0.3));\n",
              "      fill: #FFFFFF;\n",
              "    }\n",
              "  </style>\n",
              "\n",
              "      <script>\n",
              "        const buttonEl =\n",
              "          document.querySelector('#df-0ea8043f-7eb4-4d88-b530-90edaf0fb02c button.colab-df-convert');\n",
              "        buttonEl.style.display =\n",
              "          google.colab.kernel.accessAllowed ? 'block' : 'none';\n",
              "\n",
              "        async function convertToInteractive(key) {\n",
              "          const element = document.querySelector('#df-0ea8043f-7eb4-4d88-b530-90edaf0fb02c');\n",
              "          const dataTable =\n",
              "            await google.colab.kernel.invokeFunction('convertToInteractive',\n",
              "                                                     [key], {});\n",
              "          if (!dataTable) return;\n",
              "\n",
              "          const docLinkHtml = 'Like what you see? Visit the ' +\n",
              "            '<a target=\"_blank\" href=https://colab.research.google.com/notebooks/data_table.ipynb>data table notebook</a>'\n",
              "            + ' to learn more about interactive tables.';\n",
              "          element.innerHTML = '';\n",
              "          dataTable['output_type'] = 'display_data';\n",
              "          await google.colab.output.renderOutput(dataTable, element);\n",
              "          const docLink = document.createElement('div');\n",
              "          docLink.innerHTML = docLinkHtml;\n",
              "          element.appendChild(docLink);\n",
              "        }\n",
              "      </script>\n",
              "    </div>\n",
              "  </div>\n",
              "  "
            ],
            "text/plain": [
              "                                                   Text  Sentiment\n",
              "0     Kickers on my watchlist XIDE TIT SOQ PNK CPW B...          1\n",
              "1     user: AAP MOVIE. 55% return for the FEA/GEED i...          1\n",
              "2     user I'd be afraid to short AMZN - they are lo...          1\n",
              "3                                     MNTA Over 12.00            1\n",
              "4                                      OI  Over 21.37            1\n",
              "...                                                 ...        ...\n",
              "5786  Industry body CII said #discoms are likely to ...         -1\n",
              "5787  #Gold prices slip below Rs 46,000 as #investor...         -1\n",
              "5788  Workers at Bajaj Auto have agreed to a 10% wag...          1\n",
              "5789  #Sharemarket LIVE: Sensex off day’s high, up 6...          1\n",
              "5790  #Sensex, #Nifty climb off day's highs, still u...          1\n",
              "\n",
              "[5791 rows x 2 columns]"
            ]
          },
          "execution_count": 42,
          "metadata": {},
          "output_type": "execute_result"
        }
      ],
      "source": [
        "df = pd.read_csv(\"/content/gdrive/MyDrive/AUST/CSE 4.2/CSE 4238 Soft Computing Lab/Online/Assignment-2/Dataset.csv\")\n",
        "df"
      ]
    },
    {
      "cell_type": "code",
      "execution_count": 43,
      "metadata": {
        "colab": {
          "base_uri": "https://localhost:8080/"
        },
        "id": "4PqWkHJ_ksVk",
        "outputId": "99c58ac0-76fa-48c9-a842-2f51ef2b9ee2"
      },
      "outputs": [
        {
          "name": "stdout",
          "output_type": "stream",
          "text": [
            "Mounted at /content/drive\n"
          ]
        }
      ],
      "source": [
        "from google.colab import drive\n",
        "drive.mount('/content/drive')"
      ]
    },
    {
      "cell_type": "markdown",
      "metadata": {
        "id": "oNJmwTnjQM5P"
      },
      "source": [
        "# Data visualization"
      ]
    },
    {
      "cell_type": "code",
      "execution_count": 44,
      "metadata": {
        "colab": {
          "base_uri": "https://localhost:8080/"
        },
        "id": "d8AOhu8SQsZp",
        "outputId": "0e45b890-6a44-46e8-d54e-bd228812b7d5"
      },
      "outputs": [
        {
          "data": {
            "text/plain": [
              "array([ 1, -1])"
            ]
          },
          "execution_count": 44,
          "metadata": {},
          "output_type": "execute_result"
        }
      ],
      "source": [
        "df['Sentiment'].unique()"
      ]
    },
    {
      "cell_type": "code",
      "execution_count": 45,
      "metadata": {
        "colab": {
          "base_uri": "https://localhost:8080/",
          "height": 300
        },
        "id": "4wiR1fcX-EPg",
        "outputId": "bfd87d07-67a8-498c-9000-3c1dc68ea24a"
      },
      "outputs": [
        {
          "data": {
            "text/html": [
              "\n",
              "  <div id=\"df-2d65145c-2ce7-4de9-8ee4-922d418af422\">\n",
              "    <div class=\"colab-df-container\">\n",
              "      <div>\n",
              "<style scoped>\n",
              "    .dataframe tbody tr th:only-of-type {\n",
              "        vertical-align: middle;\n",
              "    }\n",
              "\n",
              "    .dataframe tbody tr th {\n",
              "        vertical-align: top;\n",
              "    }\n",
              "\n",
              "    .dataframe thead th {\n",
              "        text-align: right;\n",
              "    }\n",
              "</style>\n",
              "<table border=\"1\" class=\"dataframe\">\n",
              "  <thead>\n",
              "    <tr style=\"text-align: right;\">\n",
              "      <th></th>\n",
              "      <th>Sentiment</th>\n",
              "    </tr>\n",
              "  </thead>\n",
              "  <tbody>\n",
              "    <tr>\n",
              "      <th>count</th>\n",
              "      <td>5791.000000</td>\n",
              "    </tr>\n",
              "    <tr>\n",
              "      <th>mean</th>\n",
              "      <td>0.272664</td>\n",
              "    </tr>\n",
              "    <tr>\n",
              "      <th>std</th>\n",
              "      <td>0.962192</td>\n",
              "    </tr>\n",
              "    <tr>\n",
              "      <th>min</th>\n",
              "      <td>-1.000000</td>\n",
              "    </tr>\n",
              "    <tr>\n",
              "      <th>25%</th>\n",
              "      <td>-1.000000</td>\n",
              "    </tr>\n",
              "    <tr>\n",
              "      <th>50%</th>\n",
              "      <td>1.000000</td>\n",
              "    </tr>\n",
              "    <tr>\n",
              "      <th>75%</th>\n",
              "      <td>1.000000</td>\n",
              "    </tr>\n",
              "    <tr>\n",
              "      <th>max</th>\n",
              "      <td>1.000000</td>\n",
              "    </tr>\n",
              "  </tbody>\n",
              "</table>\n",
              "</div>\n",
              "      <button class=\"colab-df-convert\" onclick=\"convertToInteractive('df-2d65145c-2ce7-4de9-8ee4-922d418af422')\"\n",
              "              title=\"Convert this dataframe to an interactive table.\"\n",
              "              style=\"display:none;\">\n",
              "        \n",
              "  <svg xmlns=\"http://www.w3.org/2000/svg\" height=\"24px\"viewBox=\"0 0 24 24\"\n",
              "       width=\"24px\">\n",
              "    <path d=\"M0 0h24v24H0V0z\" fill=\"none\"/>\n",
              "    <path d=\"M18.56 5.44l.94 2.06.94-2.06 2.06-.94-2.06-.94-.94-2.06-.94 2.06-2.06.94zm-11 1L8.5 8.5l.94-2.06 2.06-.94-2.06-.94L8.5 2.5l-.94 2.06-2.06.94zm10 10l.94 2.06.94-2.06 2.06-.94-2.06-.94-.94-2.06-.94 2.06-2.06.94z\"/><path d=\"M17.41 7.96l-1.37-1.37c-.4-.4-.92-.59-1.43-.59-.52 0-1.04.2-1.43.59L10.3 9.45l-7.72 7.72c-.78.78-.78 2.05 0 2.83L4 21.41c.39.39.9.59 1.41.59.51 0 1.02-.2 1.41-.59l7.78-7.78 2.81-2.81c.8-.78.8-2.07 0-2.86zM5.41 20L4 18.59l7.72-7.72 1.47 1.35L5.41 20z\"/>\n",
              "  </svg>\n",
              "      </button>\n",
              "      \n",
              "  <style>\n",
              "    .colab-df-container {\n",
              "      display:flex;\n",
              "      flex-wrap:wrap;\n",
              "      gap: 12px;\n",
              "    }\n",
              "\n",
              "    .colab-df-convert {\n",
              "      background-color: #E8F0FE;\n",
              "      border: none;\n",
              "      border-radius: 50%;\n",
              "      cursor: pointer;\n",
              "      display: none;\n",
              "      fill: #1967D2;\n",
              "      height: 32px;\n",
              "      padding: 0 0 0 0;\n",
              "      width: 32px;\n",
              "    }\n",
              "\n",
              "    .colab-df-convert:hover {\n",
              "      background-color: #E2EBFA;\n",
              "      box-shadow: 0px 1px 2px rgba(60, 64, 67, 0.3), 0px 1px 3px 1px rgba(60, 64, 67, 0.15);\n",
              "      fill: #174EA6;\n",
              "    }\n",
              "\n",
              "    [theme=dark] .colab-df-convert {\n",
              "      background-color: #3B4455;\n",
              "      fill: #D2E3FC;\n",
              "    }\n",
              "\n",
              "    [theme=dark] .colab-df-convert:hover {\n",
              "      background-color: #434B5C;\n",
              "      box-shadow: 0px 1px 3px 1px rgba(0, 0, 0, 0.15);\n",
              "      filter: drop-shadow(0px 1px 2px rgba(0, 0, 0, 0.3));\n",
              "      fill: #FFFFFF;\n",
              "    }\n",
              "  </style>\n",
              "\n",
              "      <script>\n",
              "        const buttonEl =\n",
              "          document.querySelector('#df-2d65145c-2ce7-4de9-8ee4-922d418af422 button.colab-df-convert');\n",
              "        buttonEl.style.display =\n",
              "          google.colab.kernel.accessAllowed ? 'block' : 'none';\n",
              "\n",
              "        async function convertToInteractive(key) {\n",
              "          const element = document.querySelector('#df-2d65145c-2ce7-4de9-8ee4-922d418af422');\n",
              "          const dataTable =\n",
              "            await google.colab.kernel.invokeFunction('convertToInteractive',\n",
              "                                                     [key], {});\n",
              "          if (!dataTable) return;\n",
              "\n",
              "          const docLinkHtml = 'Like what you see? Visit the ' +\n",
              "            '<a target=\"_blank\" href=https://colab.research.google.com/notebooks/data_table.ipynb>data table notebook</a>'\n",
              "            + ' to learn more about interactive tables.';\n",
              "          element.innerHTML = '';\n",
              "          dataTable['output_type'] = 'display_data';\n",
              "          await google.colab.output.renderOutput(dataTable, element);\n",
              "          const docLink = document.createElement('div');\n",
              "          docLink.innerHTML = docLinkHtml;\n",
              "          element.appendChild(docLink);\n",
              "        }\n",
              "      </script>\n",
              "    </div>\n",
              "  </div>\n",
              "  "
            ],
            "text/plain": [
              "         Sentiment\n",
              "count  5791.000000\n",
              "mean      0.272664\n",
              "std       0.962192\n",
              "min      -1.000000\n",
              "25%      -1.000000\n",
              "50%       1.000000\n",
              "75%       1.000000\n",
              "max       1.000000"
            ]
          },
          "execution_count": 45,
          "metadata": {},
          "output_type": "execute_result"
        }
      ],
      "source": [
        "df.describe()"
      ]
    },
    {
      "cell_type": "code",
      "execution_count": 46,
      "metadata": {
        "colab": {
          "base_uri": "https://localhost:8080/"
        },
        "id": "YtUWL8DC-LpK",
        "outputId": "6971bfd2-4489-4256-c108-dec52ebe4e97"
      },
      "outputs": [
        {
          "name": "stdout",
          "output_type": "stream",
          "text": [
            "Total length of the data is:         5791\n",
            "No. of positve tagged sentences is:  3685\n",
            "No. of negative tagged sentences is: 2106\n"
          ]
        }
      ],
      "source": [
        "# check the number of positive vs. negative tagged sentences\n",
        "\n",
        "#df['Sentiment'].value_counts()\n",
        "\n",
        "positives = df['Sentiment'][df.Sentiment == 1 ]\n",
        "negatives = df['Sentiment'][df.Sentiment == -1 ]\n",
        "\n",
        "print('Total length of the data is:         {}'.format(df.shape[0]))\n",
        "print('No. of positve tagged sentences is:  {}'.format(len(positives)))\n",
        "print('No. of negative tagged sentences is: {}'.format(len(negatives)))"
      ]
    },
    {
      "cell_type": "code",
      "execution_count": 47,
      "metadata": {
        "colab": {
          "base_uri": "https://localhost:8080/",
          "height": 350
        },
        "id": "-8xMHizL-pAQ",
        "outputId": "14c7c658-4840-42b1-b5cc-dcd79e297975"
      },
      "outputs": [
        {
          "name": "stderr",
          "output_type": "stream",
          "text": [
            "/usr/local/lib/python3.7/dist-packages/seaborn/_decorators.py:43: FutureWarning: Pass the following variable as a keyword arg: x. From version 0.12, the only valid positional argument will be `data`, and passing other arguments without an explicit keyword will result in an error or misinterpretation.\n",
            "  FutureWarning\n"
          ]
        },
        {
          "data": {
            "text/plain": [
              "<matplotlib.axes._subplots.AxesSubplot at 0x7ff06314e390>"
            ]
          },
          "execution_count": 47,
          "metadata": {},
          "output_type": "execute_result"
        },
        {
          "data": {
            "image/png": "[encoded data removed]",
            "text/plain": [
              "<Figure size 432x288 with 1 Axes>"
            ]
          },
          "metadata": {
            "needs_background": "light"
          },
          "output_type": "display_data"
        }
      ],
      "source": [
        "sns.countplot(df['Sentiment'])"
      ]
    },
    {
      "cell_type": "code",
      "execution_count": 48,
      "metadata": {
        "id": "Z4RsYvKOS0sc"
      },
      "outputs": [],
      "source": [
        "# get a word count per of text\n",
        "def word_count(words):\n",
        "    return len(words.split())"
      ]
    },
    {
      "cell_type": "code",
      "execution_count": 49,
      "metadata": {
        "colab": {
          "base_uri": "https://localhost:8080/"
        },
        "id": "GxtXI7kd_1KY",
        "outputId": "08872205-dd62-44cb-a7ee-f05001b03225"
      },
      "outputs": [
        {
          "name": "stdout",
          "output_type": "stream",
          "text": [
            "[nltk_data] Downloading package wordnet to /root/nltk_data...\n",
            "[nltk_data]   Package wordnet is already up-to-date!\n",
            "[nltk_data] Downloading package stopwords to /root/nltk_data...\n",
            "[nltk_data]   Package stopwords is already up-to-date!\n",
            "[nltk_data] Downloading package punkt to /root/nltk_data...\n",
            "[nltk_data]   Package punkt is already up-to-date!\n"
          ]
        },
        {
          "data": {
            "text/plain": [
              "True"
            ]
          },
          "execution_count": 49,
          "metadata": {},
          "output_type": "execute_result"
        }
      ],
      "source": [
        "from nltk.stem.porter import PorterStemmer\n",
        "from nltk import word_tokenize, WordNetLemmatizer\n",
        "import nltk\n",
        "import re \n",
        "import string\n",
        "import pickle\n",
        "nltk.download('wordnet')\n",
        "nltk.download('stopwords')\n",
        "nltk.download('punkt')"
      ]
    },
    {
      "cell_type": "code",
      "execution_count": 50,
      "metadata": {
        "colab": {
          "base_uri": "https://localhost:8080/"
        },
        "id": "BNmEfFN0Oy4u",
        "outputId": "dffbebe3-035e-48e4-8e05-3805855556a0"
      },
      "outputs": [
        {
          "name": "stdout",
          "output_type": "stream",
          "text": [
            "{'did', 'y', 'them', \"she's\", 'below', 'same', 'was', 'not', 'does', 'at', 'ours', 'mustn', 'doing', 've', 'me', 'just', 'where', 'her', 'any', 'own', \"you'd\", 'these', 'o', \"that'll\", 'down', 'don', 'mightn', \"shouldn't\", 'theirs', 'my', \"you're\", 'other', 'we', 'its', 'this', 'has', 'the', 'out', 'about', 'themselves', 'ma', 'between', 'doesn', 'few', 'nor', 'yourself', 'ourselves', 'needn', \"shan't\", 'can', 'haven', 'yourselves', 'which', 'itself', 's', 'while', 'more', 't', 'that', 'too', 'be', 'a', 'in', 'very', \"needn't\", \"mightn't\", 'each', 'wasn', \"should've\", \"couldn't\", \"didn't\", 'again', 'when', \"hasn't\", 'you', 'wouldn', 'should', \"haven't\", 'himself', 'by', 'been', 'do', 'most', 'hasn', 'shan', 'of', 'because', 'and', 'up', 'there', \"it's\", \"wouldn't\", 'during', 'who', 'how', 'those', \"don't\", 'then', 'here', 'she', 'why', 'over', 'through', 'll', 'against', 'were', 'into', 'have', 'him', 'whom', 'having', 'what', 'once', \"aren't\", 'are', 'his', \"hadn't\", 'weren', 'as', 'i', 'myself', 'aren', 'all', 'no', 'such', 'their', 'only', 'hadn', 'an', 'hers', 'won', 'with', 'to', 'from', 'further', 'had', 'before', 'shouldn', 'our', \"you'll\", 'some', 'until', 'herself', \"wasn't\", 'above', 'after', 'couldn', 'didn', 'am', 'm', 'under', 'it', 'if', 'than', \"won't\", \"isn't\", 'for', 'off', 'yours', 'on', 'being', \"you've\", 'both', \"doesn't\", 'isn', 'he', 'so', 'your', 'now', 'but', 'is', 'ain', 'they', 're', \"weren't\", 'or', 'will', \"mustn't\", 'd'}\n"
          ]
        }
      ],
      "source": [
        "from nltk.corpus import stopwords\n",
        "stop_words=set(stopwords.words('english'))\n",
        "print(stop_words)\n"
      ]
    },
    {
      "cell_type": "code",
      "execution_count": 51,
      "metadata": {
        "id": "wvZgm8lsX6Vd"
      },
      "outputs": [],
      "source": [
        "word_list = list()\n",
        "for i in range(len(df)):\n",
        "    li = df.Text[i].split()\n",
        "    for k in li:\n",
        "        word_list.append(k)"
      ]
    },
    {
      "cell_type": "code",
      "execution_count": 52,
      "metadata": {
        "colab": {
          "base_uri": "https://localhost:8080/"
        },
        "id": "Z2gNInCVYRWE",
        "outputId": "dab59f81-35e0-476f-be66-07232698ed43"
      },
      "outputs": [
        {
          "data": {
            "text/plain": [
              "[('the', 1796),\n",
              " ('to', 1668),\n",
              " ('a', 1280),\n",
              " ('on', 1032),\n",
              " ('of', 944),\n",
              " ('in', 891),\n",
              " ('AAP', 884),\n",
              " ('for', 868),\n",
              " ('and', 850),\n",
              " ('is', 811),\n",
              " ('-', 728),\n",
              " ('at', 541),\n",
              " ('this', 461),\n",
              " ('it', 454),\n",
              " ('I', 453),\n",
              " ('up', 357),\n",
              " ('user:', 340),\n",
              " ('from', 331),\n",
              " ('will', 330),\n",
              " ('be', 324)]"
            ]
          },
          "execution_count": 52,
          "metadata": {},
          "output_type": "execute_result"
        }
      ],
      "source": [
        "from collections import Counter \n",
        "wordCounter = Counter(word_list)\n",
        "countedWordDict = dict(wordCounter)\n",
        "sortedWordDict = sorted(countedWordDict.items(),key = lambda x : x[1],reverse=True)\n",
        "sortedWordDict[0:20]"
      ]
    },
    {
      "cell_type": "markdown",
      "metadata": {
        "id": "H_LzksshTonY"
      },
      "source": [
        "# Data Processing"
      ]
    },
    {
      "cell_type": "code",
      "execution_count": 53,
      "metadata": {
        "colab": {
          "base_uri": "https://localhost:8080/"
        },
        "id": "mRp021h6XnK1",
        "outputId": "7f4a694c-4752-4851-da55-c8e17c8d127d"
      },
      "outputs": [
        {
          "data": {
            "text/plain": [
              "<torch._C.Generator at 0x7ff06f07d2f0>"
            ]
          },
          "execution_count": 53,
          "metadata": {},
          "output_type": "execute_result"
        }
      ],
      "source": [
        "seed = 170204067\n",
        "torch.manual_seed(seed)"
      ]
    },
    {
      "cell_type": "code",
      "execution_count": 54,
      "metadata": {
        "colab": {
          "base_uri": "https://localhost:8080/"
        },
        "id": "xgSwGmtMXsaE",
        "outputId": "6ba5a762-fb04-430d-e4ee-8f74487be51e"
      },
      "outputs": [
        {
          "data": {
            "text/plain": [
              "1    3685\n",
              "0    2106\n",
              "Name: Sentiment, dtype: int64"
            ]
          },
          "execution_count": 54,
          "metadata": {},
          "output_type": "execute_result"
        }
      ],
      "source": [
        "df[\"Sentiment\"] = df[\"Sentiment\"].replace(-1,0)\n",
        "df[\"Sentiment\"].value_counts()"
      ]
    },
    {
      "cell_type": "code",
      "execution_count": 55,
      "metadata": {
        "colab": {
          "base_uri": "https://localhost:8080/"
        },
        "id": "acrcdE-HT8Bn",
        "outputId": "b12d7d80-1687-462e-fb59-2b7a5692618d"
      },
      "outputs": [
        {
          "data": {
            "text/plain": [
              "Text         0.0\n",
              "Sentiment    0.0\n",
              "dtype: float64"
            ]
          },
          "execution_count": 55,
          "metadata": {},
          "output_type": "execute_result"
        }
      ],
      "source": [
        "#Checking if any null values present\n",
        "(df.isnull().sum() / len(df))*100"
      ]
    },
    {
      "cell_type": "code",
      "execution_count": 56,
      "metadata": {
        "id": "cCv09jcdYkLW"
      },
      "outputs": [],
      "source": [
        "ps = PorterStemmer()\n",
        "lemma = WordNetLemmatizer()\n",
        "stopwordSet = set(stopwords.words(\"english\"))"
      ]
    },
    {
      "cell_type": "markdown",
      "metadata": {
        "id": "military-invitation",
        "papermill": {
          "duration": 0.044543,
          "end_time": "2021-04-17T08:41:55.779883",
          "exception": false,
          "start_time": "2021-04-17T08:41:55.735340",
          "status": "completed"
        },
        "tags": []
      },
      "source": [
        "> The Preprocessing steps taken are:\n",
        "\n",
        "* Lower Casing: Each text is converted to lowercase.\n",
        "* Removing URLs: Links starting with \"http\" or \"https\" or \"www\" are replaced by \"\".\n",
        "\n",
        "* Removing Usernames: Replace @Usernames with word \"\". (eg: \"@XYZ\" to \"\")\n",
        "* Removing Short Words: Words with length less than 2 are removed.\n",
        "* Removing Stopwords: Stopwords are the English words which does not add much meaning to a sentence. They can safely be ignored without sacrificing the meaning of the sentence. (eg: \"the\", \"he\", \"have\")\n",
        "* Lemmatizing: Lemmatization is the process of converting a word to its base form. (e.g: “wolves” to “wolf”)"
      ]
    },
    {
      "cell_type": "code",
      "execution_count": 57,
      "metadata": {
        "id": "iArwDhlSYysL"
      },
      "outputs": [],
      "source": [
        "\n",
        "urlPattern = r\"((http://)[^ ]*|(https://)[^ ]*|( www\\.)[^ ]*)\"\n",
        "userPattern = '@[^\\s]+'\n",
        "def process_text(text):\n",
        "  # Lower Casing\n",
        "    text = text.lower()\n",
        "    text=text[1:]\n",
        "    # Removing all URls \n",
        "    text = re.sub(urlPattern,'',text)\n",
        "    # Removing all @username.\n",
        "    text = re.sub(userPattern,'',text) \n",
        "    #Remove punctuations\n",
        "    text = text.translate(str.maketrans(\"\",\"\",string.punctuation))\n",
        "    #tokenizing words\n",
        "    tokens = word_tokenize(text)\n",
        "    #Removing Stop Words\n",
        "    final_tokens = [w for w in tokens if w not in stopwordSet]\n",
        "    #reducing a word to its word stem \n",
        "    wordLemm = WordNetLemmatizer()\n",
        "    finalwords=[]\n",
        "    for w in final_tokens:\n",
        "      if len(w)>1:\n",
        "        word = wordLemm.lemmatize(w)\n",
        "        finalwords.append(word)\n",
        "    return ' '.join(finalwords)   "
      ]
    },
    {
      "cell_type": "code",
      "execution_count": 58,
      "metadata": {
        "colab": {
          "base_uri": "https://localhost:8080/"
        },
        "id": "pPQ6neeKYFR_",
        "outputId": "2242a9d3-b87f-445f-bf67-828a7cae6b2e"
      },
      "outputs": [
        {
          "name": "stdout",
          "output_type": "stream",
          "text": [
            "Text Preprocessing complete.\n"
          ]
        }
      ],
      "source": [
        "df['processed_text'] = df['Text'].apply(lambda x: process_text(x))\n",
        "print('Text Preprocessing complete.')"
      ]
    },
    {
      "cell_type": "code",
      "execution_count": 59,
      "metadata": {
        "colab": {
          "base_uri": "https://localhost:8080/",
          "height": 441
        },
        "id": "bFuchKvQeeqd",
        "outputId": "f1df1fa7-9b19-4c55-b7bb-d0797fb65518"
      },
      "outputs": [
        {
          "name": "stdout",
          "output_type": "stream",
          "text": [
            "(5791, 3)\n"
          ]
        },
        {
          "data": {
            "text/html": [
              "\n",
              "  <div id=\"df-d10b8f12-9e07-4749-bf91-56dba617f199\">\n",
              "    <div class=\"colab-df-container\">\n",
              "      <div>\n",
              "<style scoped>\n",
              "    .dataframe tbody tr th:only-of-type {\n",
              "        vertical-align: middle;\n",
              "    }\n",
              "\n",
              "    .dataframe tbody tr th {\n",
              "        vertical-align: top;\n",
              "    }\n",
              "\n",
              "    .dataframe thead th {\n",
              "        text-align: right;\n",
              "    }\n",
              "</style>\n",
              "<table border=\"1\" class=\"dataframe\">\n",
              "  <thead>\n",
              "    <tr style=\"text-align: right;\">\n",
              "      <th></th>\n",
              "      <th>Text</th>\n",
              "      <th>Sentiment</th>\n",
              "      <th>processed_text</th>\n",
              "    </tr>\n",
              "  </thead>\n",
              "  <tbody>\n",
              "    <tr>\n",
              "      <th>0</th>\n",
              "      <td>Kickers on my watchlist XIDE TIT SOQ PNK CPW B...</td>\n",
              "      <td>1</td>\n",
              "      <td>ickers watchlist xide tit soq pnk cpw bpz aj t...</td>\n",
              "    </tr>\n",
              "    <tr>\n",
              "      <th>1</th>\n",
              "      <td>user: AAP MOVIE. 55% return for the FEA/GEED i...</td>\n",
              "      <td>1</td>\n",
              "      <td>ser aap movie 55 return feageed indicator 15 t...</td>\n",
              "    </tr>\n",
              "    <tr>\n",
              "      <th>2</th>\n",
              "      <td>user I'd be afraid to short AMZN - they are lo...</td>\n",
              "      <td>1</td>\n",
              "      <td>ser id afraid short amzn looking like nearmono...</td>\n",
              "    </tr>\n",
              "    <tr>\n",
              "      <th>3</th>\n",
              "      <td>MNTA Over 12.00</td>\n",
              "      <td>1</td>\n",
              "      <td>nta 1200</td>\n",
              "    </tr>\n",
              "    <tr>\n",
              "      <th>4</th>\n",
              "      <td>OI  Over 21.37</td>\n",
              "      <td>1</td>\n",
              "      <td>2137</td>\n",
              "    </tr>\n",
              "    <tr>\n",
              "      <th>...</th>\n",
              "      <td>...</td>\n",
              "      <td>...</td>\n",
              "      <td>...</td>\n",
              "    </tr>\n",
              "    <tr>\n",
              "      <th>5786</th>\n",
              "      <td>Industry body CII said #discoms are likely to ...</td>\n",
              "      <td>0</td>\n",
              "      <td>ndustry body cii said discoms likely suffer ne...</td>\n",
              "    </tr>\n",
              "    <tr>\n",
              "      <th>5787</th>\n",
              "      <td>#Gold prices slip below Rs 46,000 as #investor...</td>\n",
              "      <td>0</td>\n",
              "      <td>gold price slip r 46000 investor book profit a...</td>\n",
              "    </tr>\n",
              "    <tr>\n",
              "      <th>5788</th>\n",
              "      <td>Workers at Bajaj Auto have agreed to a 10% wag...</td>\n",
              "      <td>1</td>\n",
              "      <td>orkers bajaj auto agreed 10 wage cut period ap...</td>\n",
              "    </tr>\n",
              "    <tr>\n",
              "      <th>5789</th>\n",
              "      <td>#Sharemarket LIVE: Sensex off day’s high, up 6...</td>\n",
              "      <td>1</td>\n",
              "      <td>sharemarket live sensex day high 600 point nif...</td>\n",
              "    </tr>\n",
              "    <tr>\n",
              "      <th>5790</th>\n",
              "      <td>#Sensex, #Nifty climb off day's highs, still u...</td>\n",
              "      <td>1</td>\n",
              "      <td>sensex nifty climb day high still key factor d...</td>\n",
              "    </tr>\n",
              "  </tbody>\n",
              "</table>\n",
              "<p>5791 rows × 3 columns</p>\n",
              "</div>\n",
              "      <button class=\"colab-df-convert\" onclick=\"convertToInteractive('df-d10b8f12-9e07-4749-bf91-56dba617f199')\"\n",
              "              title=\"Convert this dataframe to an interactive table.\"\n",
              "              style=\"display:none;\">\n",
              "        \n",
              "  <svg xmlns=\"http://www.w3.org/2000/svg\" height=\"24px\"viewBox=\"0 0 24 24\"\n",
              "       width=\"24px\">\n",
              "    <path d=\"M0 0h24v24H0V0z\" fill=\"none\"/>\n",
              "    <path d=\"M18.56 5.44l.94 2.06.94-2.06 2.06-.94-2.06-.94-.94-2.06-.94 2.06-2.06.94zm-11 1L8.5 8.5l.94-2.06 2.06-.94-2.06-.94L8.5 2.5l-.94 2.06-2.06.94zm10 10l.94 2.06.94-2.06 2.06-.94-2.06-.94-.94-2.06-.94 2.06-2.06.94z\"/><path d=\"M17.41 7.96l-1.37-1.37c-.4-.4-.92-.59-1.43-.59-.52 0-1.04.2-1.43.59L10.3 9.45l-7.72 7.72c-.78.78-.78 2.05 0 2.83L4 21.41c.39.39.9.59 1.41.59.51 0 1.02-.2 1.41-.59l7.78-7.78 2.81-2.81c.8-.78.8-2.07 0-2.86zM5.41 20L4 18.59l7.72-7.72 1.47 1.35L5.41 20z\"/>\n",
              "  </svg>\n",
              "      </button>\n",
              "      \n",
              "  <style>\n",
              "    .colab-df-container {\n",
              "      display:flex;\n",
              "      flex-wrap:wrap;\n",
              "      gap: 12px;\n",
              "    }\n",
              "\n",
              "    .colab-df-convert {\n",
              "      background-color: #E8F0FE;\n",
              "      border: none;\n",
              "      border-radius: 50%;\n",
              "      cursor: pointer;\n",
              "      display: none;\n",
              "      fill: #1967D2;\n",
              "      height: 32px;\n",
              "      padding: 0 0 0 0;\n",
              "      width: 32px;\n",
              "    }\n",
              "\n",
              "    .colab-df-convert:hover {\n",
              "      background-color: #E2EBFA;\n",
              "      box-shadow: 0px 1px 2px rgba(60, 64, 67, 0.3), 0px 1px 3px 1px rgba(60, 64, 67, 0.15);\n",
              "      fill: #174EA6;\n",
              "    }\n",
              "\n",
              "    [theme=dark] .colab-df-convert {\n",
              "      background-color: #3B4455;\n",
              "      fill: #D2E3FC;\n",
              "    }\n",
              "\n",
              "    [theme=dark] .colab-df-convert:hover {\n",
              "      background-color: #434B5C;\n",
              "      box-shadow: 0px 1px 3px 1px rgba(0, 0, 0, 0.15);\n",
              "      filter: drop-shadow(0px 1px 2px rgba(0, 0, 0, 0.3));\n",
              "      fill: #FFFFFF;\n",
              "    }\n",
              "  </style>\n",
              "\n",
              "      <script>\n",
              "        const buttonEl =\n",
              "          document.querySelector('#df-d10b8f12-9e07-4749-bf91-56dba617f199 button.colab-df-convert');\n",
              "        buttonEl.style.display =\n",
              "          google.colab.kernel.accessAllowed ? 'block' : 'none';\n",
              "\n",
              "        async function convertToInteractive(key) {\n",
              "          const element = document.querySelector('#df-d10b8f12-9e07-4749-bf91-56dba617f199');\n",
              "          const dataTable =\n",
              "            await google.colab.kernel.invokeFunction('convertToInteractive',\n",
              "                                                     [key], {});\n",
              "          if (!dataTable) return;\n",
              "\n",
              "          const docLinkHtml = 'Like what you see? Visit the ' +\n",
              "            '<a target=\"_blank\" href=https://colab.research.google.com/notebooks/data_table.ipynb>data table notebook</a>'\n",
              "            + ' to learn more about interactive tables.';\n",
              "          element.innerHTML = '';\n",
              "          dataTable['output_type'] = 'display_data';\n",
              "          await google.colab.output.renderOutput(dataTable, element);\n",
              "          const docLink = document.createElement('div');\n",
              "          docLink.innerHTML = docLinkHtml;\n",
              "          element.appendChild(docLink);\n",
              "        }\n",
              "      </script>\n",
              "    </div>\n",
              "  </div>\n",
              "  "
            ],
            "text/plain": [
              "                                                   Text  ...                                     processed_text\n",
              "0     Kickers on my watchlist XIDE TIT SOQ PNK CPW B...  ...  ickers watchlist xide tit soq pnk cpw bpz aj t...\n",
              "1     user: AAP MOVIE. 55% return for the FEA/GEED i...  ...  ser aap movie 55 return feageed indicator 15 t...\n",
              "2     user I'd be afraid to short AMZN - they are lo...  ...  ser id afraid short amzn looking like nearmono...\n",
              "3                                     MNTA Over 12.00    ...                                           nta 1200\n",
              "4                                      OI  Over 21.37    ...                                               2137\n",
              "...                                                 ...  ...                                                ...\n",
              "5786  Industry body CII said #discoms are likely to ...  ...  ndustry body cii said discoms likely suffer ne...\n",
              "5787  #Gold prices slip below Rs 46,000 as #investor...  ...  gold price slip r 46000 investor book profit a...\n",
              "5788  Workers at Bajaj Auto have agreed to a 10% wag...  ...  orkers bajaj auto agreed 10 wage cut period ap...\n",
              "5789  #Sharemarket LIVE: Sensex off day’s high, up 6...  ...  sharemarket live sensex day high 600 point nif...\n",
              "5790  #Sensex, #Nifty climb off day's highs, still u...  ...  sensex nifty climb day high still key factor d...\n",
              "\n",
              "[5791 rows x 3 columns]"
            ]
          },
          "execution_count": 59,
          "metadata": {},
          "output_type": "execute_result"
        }
      ],
      "source": [
        "print(df.shape)\n",
        "df"
      ]
    },
    {
      "cell_type": "markdown",
      "metadata": {
        "id": "0JcofI1qmC0s"
      },
      "source": [
        "# Create the (B.O.W) bag of word model"
      ]
    },
    {
      "cell_type": "code",
      "execution_count": 60,
      "metadata": {
        "id": "BEpKARyfZUs-"
      },
      "outputs": [],
      "source": [
        "cv = CountVectorizer(max_features = len(df))\n",
        "X = cv.fit_transform(df['processed_text']).toarray()\n",
        "y= df['Sentiment'].to_numpy()\n",
        "\n",
        "#X = torch.from_numpy(X).type(torch.LongTensor)\n",
        "#y = torch.from_numpy(y).type(torch.LongTensor)\n",
        "\n",
        "X = torch.from_numpy(X)\n",
        "y = torch.from_numpy(y)\n"
      ]
    },
    {
      "cell_type": "markdown",
      "metadata": {
        "id": "elder-scholarship",
        "papermill": {
          "duration": 0.081183,
          "end_time": "2021-04-17T08:43:33.846528",
          "exception": false,
          "start_time": "2021-04-17T08:43:33.765345",
          "status": "completed"
        },
        "tags": []
      },
      "source": [
        "## Split train and test"
      ]
    },
    {
      "cell_type": "markdown",
      "metadata": {
        "id": "fallen-gibraltar",
        "papermill": {
          "duration": 0.081915,
          "end_time": "2021-04-17T08:43:34.010048",
          "exception": false,
          "start_time": "2021-04-17T08:43:33.928133",
          "status": "completed"
        },
        "tags": []
      },
      "source": [
        "The Preprocessed Data is divided into 2 sets of data:\n",
        "\n",
        "* Training Data: The dataset upon which the model would be trained on. Contains 80% data.\n",
        "* Test Data: The dataset upon which the model would be tested against. Contains 20% data.\n",
        "\n",
        "\n"
      ]
    },
    {
      "cell_type": "code",
      "execution_count": 61,
      "metadata": {
        "id": "XOAKipE9n2hb"
      },
      "outputs": [],
      "source": [
        "## Split the dataset into Training and Test set\n",
        "X_train, X_test, y_train, y_test = train_test_split(X, y , test_size=0.2, random_state = seed)\n",
        "\n",
        "X_train = X_train.type(torch.FloatTensor)\n",
        "X_test = X_test.type(torch.FloatTensor)\n",
        "y_train = y_train.type(torch.FloatTensor)\n",
        "y_test = y_test.type(torch.FloatTensor)"
      ]
    },
    {
      "cell_type": "code",
      "execution_count": 62,
      "metadata": {
        "id": "Z6ISSPHXr1Nr"
      },
      "outputs": [],
      "source": [
        "\n",
        "#BATCH_SIZE = 264\n",
        "\n",
        "device = torch.device('cuda' if torch.cuda.is_available() else 'cpu')\n",
        "\n"
      ]
    },
    {
      "cell_type": "markdown",
      "metadata": {
        "id": "expressed-antenna",
        "papermill": {
          "duration": 0.08273,
          "end_time": "2021-04-17T08:43:34.573838",
          "exception": false,
          "start_time": "2021-04-17T08:43:34.491108",
          "status": "completed"
        },
        "tags": []
      },
      "source": []
    },
    {
      "cell_type": "markdown",
      "metadata": {
        "id": "TfF59Fw2oXst"
      },
      "source": [
        "**Neural Network**"
      ]
    },
    {
      "cell_type": "code",
      "execution_count": 63,
      "metadata": {
        "id": "d6yywd_wZ582"
      },
      "outputs": [],
      "source": [
        "class NeuralNetwork(nn.Module):\n",
        "    def __init__(self, input_dim):\n",
        "        super(NeuralNetwork, self).__init__()\n",
        "        self.layer_1 = nn.Linear(input_dim, 512) \n",
        "        self.layer_2 = nn.Linear(512, 128) \n",
        "        self.layer_3 = nn.Linear(128, 1)   \n",
        "        self.relu = nn.ReLU()\n",
        "        self.sigmoid = nn.Sigmoid()\n",
        "        self.dropout = nn.Dropout()\n",
        "        # self.flatten = nn.Flatten()\n",
        "       \n",
        "     \n",
        "  \n",
        "        \n",
        "    def forward(self, x):\n",
        "\n",
        "        x = self.layer_1(x)\n",
        "        x = self.dropout(x)\n",
        "        x = self.relu(x)\n",
        "        x = self.layer_2(x)\n",
        "        x = self.dropout(x)\n",
        "        x = self.relu(x)\n",
        "        x = self.layer_3(x)\n",
        "        logits = self.sigmoid(x)\n",
        "        return logits"
      ]
    },
    {
      "cell_type": "code",
      "execution_count": 64,
      "metadata": {
        "colab": {
          "base_uri": "https://localhost:8080/"
        },
        "id": "Y_hR0V6Ybxwd",
        "outputId": "1d53b552-e562-4636-8511-1df9f5bb547a"
      },
      "outputs": [
        {
          "name": "stdout",
          "output_type": "stream",
          "text": [
            "NeuralNetwork(\n",
            "  (layer_1): Linear(in_features=5791, out_features=512, bias=True)\n",
            "  (layer_2): Linear(in_features=512, out_features=128, bias=True)\n",
            "  (layer_3): Linear(in_features=128, out_features=1, bias=True)\n",
            "  (relu): ReLU()\n",
            "  (sigmoid): Sigmoid()\n",
            "  (dropout): Dropout(p=0.5, inplace=False)\n",
            ")\n"
          ]
        }
      ],
      "source": [
        "model = NeuralNetwork(len(df))\n",
        "print(model)\n",
        "\n"
      ]
    },
    {
      "cell_type": "markdown",
      "metadata": {
        "id": "LRkQo8pBqCc7"
      },
      "source": [
        "Optimization"
      ]
    },
    {
      "cell_type": "code",
      "execution_count": 65,
      "metadata": {
        "id": "uH9iXuuKb_lU"
      },
      "outputs": [],
      "source": [
        "\"\"\"\n",
        "loss_fn = nn.BCELoss()\n",
        "optimizer = torch.optim.SGD(model.parameters(), lr=1e-3)\n",
        "\n",
        "\"\"\"\n",
        "\n",
        "\n",
        "import torch.optim as optim\n",
        "optimizer = optim.Adam(model.parameters())\n",
        "\n",
        "loss_fn = nn.BCEWithLogitsLoss()\n",
        "model = model.to(device)\n",
        "loss_fn = loss_fn.to(device)\n",
        "\n"
      ]
    },
    {
      "cell_type": "markdown",
      "metadata": {
        "id": "ArUL6oeYp91U"
      },
      "source": [
        "function to calculate accuracy..."
      ]
    },
    {
      "cell_type": "code",
      "execution_count": 66,
      "metadata": {
        "id": "WJvyCQFfp7JM"
      },
      "outputs": [],
      "source": [
        "def binary_accuracy(preds, y):\n",
        "    \"\"\"\n",
        "    Returns accuracy per batch, i.e. if you get 8/10 right, this returns 0.8, NOT 8\n",
        "    \"\"\"\n",
        "\n",
        "    #round predictions to the closest integer\n",
        "    rounded_preds = torch.round(torch.sigmoid(preds))\n",
        "    correct = (rounded_preds == y).float() #convert into float for division \n",
        "    acc = correct.sum() / len(correct)\n",
        "    return acc"
      ]
    },
    {
      "cell_type": "code",
      "execution_count": 67,
      "metadata": {
        "id": "yOdkm0QxcBiu"
      },
      "outputs": [],
      "source": [
        "\n",
        "def trainModel(model, loss_fn, optimizer):\n",
        "    model.train()\n",
        "\n",
        "    batch = 256\n",
        "    size = X_test.shape[0]\n",
        "\n",
        "    loss = 0\n",
        "    acc = 0\n",
        "    \n",
        "\n",
        "    for i in range(X_train.shape[0]):\n",
        "      x, y = X_train[i], torch.tensor([y_train[i]], dtype=torch.float)\n",
        "    \n",
        "      # Compute prediction \n",
        "      pred = model(x)\n",
        "      loss += loss_fn(pred,y)\n",
        "      acc += binary_accuracy(pred,y)\n",
        "      \n",
        "      if i>0 and (i+1)%batch == 0:\n",
        "          # Backpropagation\n",
        "          optimizer.zero_grad()\n",
        "          loss.backward()\n",
        "          optimizer.step()\n",
        "         # print(f'Training Loss: {loss.item():.4f}', end=\"\\r\")\n",
        "         # print(f'\\tTraining Loss: {loss.item():.3f} | Training Acc: {acc.item()*100:.2f}%')\n",
        "          loss = 0\n",
        "          acc = 0\n",
        "    print()\n",
        "    return loss.item()/size, acc.item()/size\n",
        "\n",
        "\n"
      ]
    },
    {
      "cell_type": "code",
      "execution_count": 68,
      "metadata": {
        "id": "eHL5jt3sdRj0"
      },
      "outputs": [],
      "source": [
        "from numpy.lib.function_base import append\n",
        "\n",
        "\n",
        "TP=[]\n",
        "TN=[]\n",
        "FP=[]\n",
        "FN=[]\n",
        "def testModel(model, loss_fn):\n",
        "    model.eval()\n",
        "\n",
        "    size = X_test.shape[0]\n",
        "\n",
        "    loss = 0\n",
        "    acc = 0\n",
        "\n",
        "\n",
        "\n",
        "    with torch.no_grad():\n",
        "      for i in range(X_test.shape[0]):\n",
        "        x, y = X_test[i], torch.tensor([y_test[i]], dtype=torch.float)\n",
        "    \n",
        "        # Compute prediction error\n",
        "        pred = model(x)\n",
        "        if( (torch.round(pred)) == 1 and y== 0) :\n",
        "           FP.append(1)\n",
        "        if( (torch.round(pred)) == 0 and y== 1) :\n",
        "           FN.append(1)\n",
        "        if( (torch.round(pred)) == 1 and y== 1) :\n",
        "           TP.append(1)\n",
        "        if( (torch.round(pred)) == 0 and y== 0) :\n",
        "           TP.append(1)         \n",
        "       \n",
        "            \n",
        "        loss += loss_fn(pred, y).item()\n",
        "        acc += binary_accuracy(pred,y).item()\n",
        "      \n",
        "    loss /= size\n",
        "    acc /= size\n",
        "    \n",
        "    #print(f'Testing Loss: {loss}')\n",
        "    #print(f'\\t Val. Loss: {loss:.3f} |  Val. Acc: {acc*100:.2f}%')\n",
        "  \n",
        "    return loss, acc  "
      ]
    },
    {
      "cell_type": "markdown",
      "metadata": {
        "id": "at9dIR_jTwYU"
      },
      "source": []
    },
    {
      "cell_type": "code",
      "execution_count": 69,
      "metadata": {
        "colab": {
          "base_uri": "https://localhost:8080/"
        },
        "id": "_AdcUUScdjG3",
        "outputId": "133065be-390e-4892-87f7-a3b9aeded752"
      },
      "outputs": [
        {
          "name": "stdout",
          "output_type": "stream",
          "text": [
            "\n",
            "Epoch: 01 | Epoch Time: 0m 53s\n",
            "\tTrain Loss: 0.011 | Train Acc: 1.81%\n",
            "\t Val. Loss: 0.647 |  Val. Acc: 64.19%\n",
            "Done!\n"
          ]
        }
      ],
      "source": [
        "\n",
        "epochs = 1\n",
        "best_valid_loss = float('inf')\n",
        "\n",
        "# train for some number of epochs\n",
        "epoch_tr_loss,epoch_vl_loss = [],[]\n",
        "epoch_tr_acc,epoch_vl_acc = [],[]\n",
        "\n",
        "for epoch in range(epochs):\n",
        "    #print(f\"Epoch {t+1}\\n-------------------------------\")\n",
        "    start_time = time.time()\n",
        "\n",
        "    train_loss,train_acc = trainModel(model, loss_fn, optimizer)\n",
        "    valid_loss, valid_acc = testModel(model, loss_fn)\n",
        "\n",
        "    end_time = time.time()\n",
        "\n",
        "    epoch_mins, epoch_secs = epoch_time(start_time, end_time)\n",
        "    \n",
        "    if valid_loss < best_valid_loss:\n",
        "        best_valid_loss = valid_loss\n",
        "        torch.save(model.state_dict(), 'stock_sentiment.pt')\n",
        "    \n",
        "    print(f'Epoch: {epoch+1:02} | Epoch Time: {epoch_mins}m {epoch_secs}s')\n",
        "    print(f'\\tTrain Loss: {train_loss:.3f} | Train Acc: {train_acc*100:.2f}%')\n",
        "    print(f'\\t Val. Loss: {valid_loss:.3f} |  Val. Acc: {valid_acc*100:.2f}%')\n",
        "    \n",
        "    epoch_tr_loss.append(train_loss)\n",
        "    epoch_vl_loss.append(valid_loss)\n",
        "    epoch_tr_acc.append(train_acc)\n",
        "    epoch_vl_acc.append(valid_acc)\n",
        "  \n",
        "    \n",
        "print(\"Done!\")\n",
        "\n",
        "\n"
      ]
    },
    {
      "cell_type": "code",
      "execution_count": 69,
      "metadata": {
        "id": "NYRz70ks-CIv"
      },
      "outputs": [],
      "source": []
    },
    {
      "cell_type": "code",
      "execution_count": 70,
      "metadata": {
        "id": "WD_gfqs4rTPe"
      },
      "outputs": [],
      "source": [
        "TP=len(TP)\n",
        "TN=len(TN)\n",
        "FP=len(FP)\n",
        "FN=len(FN)"
      ]
    },
    {
      "cell_type": "code",
      "execution_count": 71,
      "metadata": {
        "id": "_qhc-GZgDvcC"
      },
      "outputs": [],
      "source": [
        "acc=(TP+TN)/(TP+TN+FN+FP)"
      ]
    },
    {
      "cell_type": "code",
      "execution_count": 72,
      "metadata": {
        "colab": {
          "base_uri": "https://localhost:8080/"
        },
        "id": "s9E-ZZpSp0xU",
        "outputId": "49e9a50d-a960-4675-d266-6e0abed8436f"
      },
      "outputs": [
        {
          "data": {
            "text/plain": [
              "0.7592752372735116"
            ]
          },
          "execution_count": 72,
          "metadata": {},
          "output_type": "execute_result"
        }
      ],
      "source": [
        "acc"
      ]
    },
    {
      "cell_type": "code",
      "execution_count": 73,
      "metadata": {
        "id": "FnDVeQ2Brq-O"
      },
      "outputs": [],
      "source": [
        "prec=TP/(TP+FP)"
      ]
    },
    {
      "cell_type": "code",
      "execution_count": 74,
      "metadata": {
        "colab": {
          "base_uri": "https://localhost:8080/"
        },
        "id": "34Ufi6thrxwd",
        "outputId": "e136e2e2-67ba-4b66-b5bf-089dd3ea9324"
      },
      "outputs": [
        {
          "data": {
            "text/plain": [
              "0.8764940239043825"
            ]
          },
          "execution_count": 74,
          "metadata": {},
          "output_type": "execute_result"
        }
      ],
      "source": [
        "prec"
      ]
    },
    {
      "cell_type": "code",
      "execution_count": 75,
      "metadata": {
        "id": "SUiM83bUr1de"
      },
      "outputs": [],
      "source": [
        "rec=TP/(TP+FN)"
      ]
    },
    {
      "cell_type": "code",
      "execution_count": 76,
      "metadata": {
        "colab": {
          "base_uri": "https://localhost:8080/"
        },
        "id": "VkVSkqBrsDxu",
        "outputId": "32581376-defc-48db-8cfa-5586a3257de4"
      },
      "outputs": [
        {
          "data": {
            "text/plain": [
              "0.8502415458937198"
            ]
          },
          "execution_count": 76,
          "metadata": {},
          "output_type": "execute_result"
        }
      ],
      "source": [
        "rec"
      ]
    },
    {
      "cell_type": "code",
      "execution_count": 77,
      "metadata": {
        "id": "Wn9ZyjyHsGBu"
      },
      "outputs": [],
      "source": [
        "f1score=2*prec*rec/(prec+rec)"
      ]
    },
    {
      "cell_type": "code",
      "execution_count": 78,
      "metadata": {
        "colab": {
          "base_uri": "https://localhost:8080/"
        },
        "id": "YcjlyDuisO_-",
        "outputId": "537d39bf-345e-48a7-abdb-d3074d14eecd"
      },
      "outputs": [
        {
          "data": {
            "text/plain": [
              "0.8631682197155469"
            ]
          },
          "execution_count": 78,
          "metadata": {},
          "output_type": "execute_result"
        }
      ],
      "source": [
        "f1score"
      ]
    },
    {
      "cell_type": "code",
      "execution_count": 78,
      "metadata": {
        "id": "8fkDm20n-iqu"
      },
      "outputs": [],
      "source": []
    }
  ],
  "metadata": {
    "colab": {
      "collapsed_sections": [],
      "name": "Copy of assignment 2.ipynb",
      "provenance": []
    },
    "kernelspec": {
      "display_name": "Python 3",
      "name": "python3"
    },
    "language_info": {
      "name": "python"
    }
  },
  "nbformat": 4,
  "nbformat_minor": 0
}
